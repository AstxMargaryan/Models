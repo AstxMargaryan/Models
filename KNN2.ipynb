{
  "nbformat": 4,
  "nbformat_minor": 0,
  "metadata": {
    "colab": {
      "private_outputs": true,
      "provenance": [],
      "include_colab_link": true
    },
    "kernelspec": {
      "name": "python3",
      "display_name": "Python 3"
    },
    "language_info": {
      "name": "python"
    }
  },
  "cells": [
    {
      "cell_type": "markdown",
      "metadata": {
        "id": "view-in-github",
        "colab_type": "text"
      },
      "source": [
        "<a href=\"https://colab.research.google.com/github/AstxMargaryan/Models/blob/main/KNN2.ipynb\" target=\"_parent\"><img src=\"https://colab.research.google.com/assets/colab-badge.svg\" alt=\"Open In Colab\"/></a>"
      ]
    },
    {
      "cell_type": "markdown",
      "source": [
        "# Homework: k-Nearest Neighbors Classifier (Multiple Distance Metrics)\n",
        "\n",
        "In this homework, you will implement the missing parts of the `KNearestNeighbor` class to create a kNN classifier that can use **different distance metrics**.\n",
        "\n",
        "## Tasks\n",
        "1. Implement `compute_distances` so it supports:\n",
        "    - **Hamming Distance**\n",
        "    - **Euclidean Distance**\n",
        "    - **Manhattan Distance**\n",
        "2. Implement `predict_labels` to choose the majority label among the `k` nearest neighbors.\n",
        "3. Test your implementation on sample data with different distance metrics.\n",
        "\n"
      ],
      "metadata": {
        "id": "LHx4dkHEJyMe"
      }
    },
    {
      "cell_type": "code",
      "source": [
        "import numpy as np\n",
        "import pandas as pd\n"
      ],
      "metadata": {
        "id": "sOpOBqfxLGns"
      },
      "execution_count": null,
      "outputs": []
    },
    {
      "cell_type": "code",
      "execution_count": null,
      "metadata": {
        "id": "H4Ihr4UXI6O7"
      },
      "outputs": [],
      "source": [
        "class KNearestNeighbor(object):\n",
        "    \"\"\"a kNN classifier with multiple distance metrics\"\"\"\n",
        "\n",
        "    def __init__(self, X_train, y_train):\n",
        "        \"\"\"\n",
        "        Initializing the KNN object\n",
        "        \"\"\"\n",
        "        self.X_train = X_train\n",
        "        self.y_train = y_train\n",
        "\n",
        "    def fit_predict(self, X_test, k=1, distance=\"hamming\"):\n",
        "        \"\"\"\n",
        "        Fits the model and predicts labels for test data.\n",
        "\n",
        "        Parameters:\n",
        "        - X_test: Test data\n",
        "        - k: Number of nearest neighbors\n",
        "        - distance: Distance metric ('hamming', 'euclidean', 'manhattan')\n",
        "        \"\"\"\n",
        "        dists = self.compute_distances(X_test, distance)\n",
        "        return self.predict_labels(dists, k=k)\n",
        "\n",
        "    def compute_distances(self, X_test, distance=\"hamming\"):\n",
        "        \"\"\"\n",
        "        Compute the distance between each test and train point.\n",
        "        Supported distances: 'hamming', 'euclidean', 'manhattan'\n",
        "        \"\"\"\n",
        "        if distance == \"euclidean\":\n",
        "          #lets use the fact that euclidean norm consists of dot products\n",
        "          x2 = np.sum(self.X_train ** 2).reshape(-1, 1)\n",
        "          y2 = np.sum(X_test ** 2)\n",
        "          xy = X_test @ self.X_train.T\n",
        "\n",
        "          return np.sqrt(x2 - 2*xy + y2)\n",
        "\n",
        "        if distance == \"manhattan\":\n",
        "          return np.abs(X_test[:, None] - self.X_train).sum(-1)\n",
        "\n",
        "        if distance == \"hamming\":\n",
        "          return (X_test[:, None] != self.X_train).sum(-1)\n",
        "\n",
        "\n",
        "    def predict_labels(self, dists, k=1):\n",
        "        sorted = dists.argsort(axis = 1)\n",
        "        vecs = self.y_train[sorted[:,:k]]\n",
        "        return np.array(np.mean(vecs, axis = 1) >= 0.5, dtype=\"int\")\n",
        "\n"
      ]
    },
    {
      "cell_type": "markdown",
      "source": [
        "**Example Dataset**"
      ],
      "metadata": {
        "id": "sbreHiR3K6aU"
      }
    },
    {
      "cell_type": "code",
      "source": [
        "# Training data\n",
        "X_train = np.array([\n",
        "    [1, 0, 1],\n",
        "    [0, 1, 0],\n",
        "    [1, 1, 1],\n",
        "    [0, 0, 0]\n",
        "])\n",
        "y_train = np.array([0, 1, 0, 1])\n",
        "\n",
        "# Test data\n",
        "X_test = np.array([\n",
        "    [1, 0, 0],\n",
        "    [0, 1, 1]\n",
        "])\n"
      ],
      "metadata": {
        "id": "-jkVj506K2RE"
      },
      "execution_count": null,
      "outputs": []
    },
    {
      "cell_type": "markdown",
      "source": [
        "**Test the Model**"
      ],
      "metadata": {
        "id": "k8Lo4u-iK_70"
      }
    },
    {
      "cell_type": "code",
      "source": [
        "knn = KNearestNeighbor(X_train, y_train)\n",
        "\n",
        "for dist in [\"hamming\", \"euclidean\", \"manhattan\"]:\n",
        "    y_pred = knn.fit_predict(X_test, k=3, distance=dist)\n",
        "    print(f\"Distance: {dist} -> Predictions: {y_pred}\")\n"
      ],
      "metadata": {
        "id": "Kl6tYmkWK8u0"
      },
      "execution_count": null,
      "outputs": []
    }
  ]
}